{
 "cells": [
  {
   "cell_type": "markdown",
   "id": "d58caeba",
   "metadata": {},
   "source": [
    "### Import Package"
   ]
  },
  {
   "cell_type": "code",
   "execution_count": 1,
   "id": "a600b241",
   "metadata": {},
   "outputs": [],
   "source": [
    "import tensorflow as tf\n",
    "import numpy as np"
   ]
  },
  {
   "cell_type": "markdown",
   "id": "c37b42ee",
   "metadata": {},
   "source": [
    "### Membuat sebuah tensor dengan shape(5,5) dengan nilai random yang disimpan dalam variable random_tensor"
   ]
  },
  {
   "cell_type": "code",
   "execution_count": 2,
   "id": "521ea4be",
   "metadata": {},
   "outputs": [
    {
     "data": {
      "text/plain": [
       "<tf.Tensor: shape=(5, 5), dtype=float32, numpy=\n",
       "array([[-0.42693955, -0.2407996 ,  1.851925  ,  0.80927134, -1.621124  ],\n",
       "       [-0.58296674,  0.43331036,  1.4641234 ,  1.064964  , -1.6393626 ],\n",
       "       [ 0.08811687,  1.4288409 , -0.7874416 ,  1.0346406 , -1.4021518 ],\n",
       "       [-0.02073004, -0.1432751 , -0.4795988 , -1.1311929 ,  1.6276301 ],\n",
       "       [ 0.4054207 , -0.81730264, -1.1647311 , -0.39114204, -0.38851568]],\n",
       "      dtype=float32)>"
      ]
     },
     "execution_count": 2,
     "metadata": {},
     "output_type": "execute_result"
    }
   ],
   "source": [
    "random_tensor = tf.random.normal(shape=[5,5], mean=0)\n",
    "random_tensor"
   ]
  },
  {
   "cell_type": "markdown",
   "id": "e0d50a12",
   "metadata": {},
   "source": [
    "### Membuat sebuah tensor dengan shape(5,5) dari sebuah list dengan nilai bilangan prima dalam variable prime_tensor"
   ]
  },
  {
   "cell_type": "code",
   "execution_count": 3,
   "id": "2ccf0d3d",
   "metadata": {},
   "outputs": [],
   "source": [
    "list_prima = [[2, 3, 5, 7, 11], [13, 17, 19, 23, 29], [31, 37, 41, 43, 47], [53, 59, 61, 67, 71], [73, 79, 83, 89, 97]]"
   ]
  },
  {
   "cell_type": "code",
   "execution_count": 4,
   "id": "2636e767",
   "metadata": {},
   "outputs": [
    {
     "data": {
      "text/plain": [
       "<tf.Tensor: shape=(5, 5), dtype=float32, numpy=\n",
       "array([[ 2.,  3.,  5.,  7., 11.],\n",
       "       [13., 17., 19., 23., 29.],\n",
       "       [31., 37., 41., 43., 47.],\n",
       "       [53., 59., 61., 67., 71.],\n",
       "       [73., 79., 83., 89., 97.]], dtype=float32)>"
      ]
     },
     "execution_count": 4,
     "metadata": {},
     "output_type": "execute_result"
    }
   ],
   "source": [
    "prime_tensor = tf.convert_to_tensor(list_prima, dtype=tf.float32)\n",
    "prime_tensor"
   ]
  },
  {
   "cell_type": "markdown",
   "id": "a944cd40",
   "metadata": {},
   "source": [
    "### Menampilkan dimensi dari kedua variable tersebut\n",
    "#### - Variable random_tensor"
   ]
  },
  {
   "cell_type": "code",
   "execution_count": 5,
   "id": "e31c0a7d",
   "metadata": {},
   "outputs": [
    {
     "data": {
      "text/plain": [
       "TensorShape([5, 5])"
      ]
     },
     "execution_count": 5,
     "metadata": {},
     "output_type": "execute_result"
    }
   ],
   "source": [
    "random_tensor.shape"
   ]
  },
  {
   "cell_type": "markdown",
   "id": "9028cf2d",
   "metadata": {},
   "source": [
    "#### - Variable prime_tensor"
   ]
  },
  {
   "cell_type": "code",
   "execution_count": 6,
   "id": "f80c60d0",
   "metadata": {},
   "outputs": [
    {
     "data": {
      "text/plain": [
       "TensorShape([5, 5])"
      ]
     },
     "execution_count": 6,
     "metadata": {},
     "output_type": "execute_result"
    }
   ],
   "source": [
    "prime_tensor.shape"
   ]
  },
  {
   "cell_type": "markdown",
   "id": "e89c036a",
   "metadata": {},
   "source": [
    "### Menampilkan hasil dari perhitungan aritmetika 2 variable tersebut (Gunakan minimal 5 operator)\n",
    "#### - Pertambahan"
   ]
  },
  {
   "cell_type": "code",
   "execution_count": 7,
   "id": "e767ea4f",
   "metadata": {},
   "outputs": [
    {
     "name": "stdout",
     "output_type": "stream",
     "text": [
      "Variable prime_tensor + random_tensor :\n",
      " tf.Tensor(\n",
      "[[ 1.5730605  2.7592003  6.851925   7.8092713  9.378876 ]\n",
      " [12.417033  17.43331   20.464123  24.064964  27.360638 ]\n",
      " [31.088118  38.42884   40.21256   44.03464   45.597847 ]\n",
      " [52.97927   58.856724  60.5204    65.868805  72.62763  ]\n",
      " [73.40542   78.1827    81.835266  88.60886   96.61148  ]], shape=(5, 5), dtype=float32)\n"
     ]
    }
   ],
   "source": [
    "print(\"Variable prime_tensor + random_tensor :\\n\", tf.add(prime_tensor, random_tensor))"
   ]
  },
  {
   "cell_type": "markdown",
   "id": "d7bc24b2",
   "metadata": {},
   "source": [
    "#### - Pengurangan"
   ]
  },
  {
   "cell_type": "code",
   "execution_count": 8,
   "id": "2c1b569a",
   "metadata": {},
   "outputs": [
    {
     "name": "stdout",
     "output_type": "stream",
     "text": [
      "Variable prime_tensor - random_tensor :\n",
      " tf.Tensor(\n",
      "[[ 2.4269395  3.2407997  3.148075   6.1907287 12.621124 ]\n",
      " [13.582967  16.56669   17.535877  21.935036  30.639362 ]\n",
      " [30.911882  35.57116   41.78744   41.96536   48.402153 ]\n",
      " [53.02073   59.143276  61.4796    68.131195  69.37237  ]\n",
      " [72.59458   79.8173    84.164734  89.39114   97.38852  ]], shape=(5, 5), dtype=float32)\n",
      "\n",
      "Variable random_tensor - prime_tensor :\n",
      " tf.Tensor(\n",
      "[[ -2.4269395  -3.2407997  -3.148075   -6.1907287 -12.621124 ]\n",
      " [-13.582967  -16.56669   -17.535877  -21.935036  -30.639362 ]\n",
      " [-30.911882  -35.57116   -41.78744   -41.96536   -48.402153 ]\n",
      " [-53.02073   -59.143276  -61.4796    -68.131195  -69.37237  ]\n",
      " [-72.59458   -79.8173    -84.164734  -89.39114   -97.38852  ]], shape=(5, 5), dtype=float32)\n"
     ]
    }
   ],
   "source": [
    "print(\"Variable prime_tensor - random_tensor :\\n\", tf.subtract(prime_tensor, random_tensor))\n",
    "print(\"\\nVariable random_tensor - prime_tensor :\\n\", tf.subtract(random_tensor, prime_tensor))"
   ]
  },
  {
   "cell_type": "markdown",
   "id": "7e3fa990",
   "metadata": {},
   "source": [
    "#### - Perkalian"
   ]
  },
  {
   "cell_type": "code",
   "execution_count": 9,
   "id": "ee9eb0db",
   "metadata": {},
   "outputs": [
    {
     "name": "stdout",
     "output_type": "stream",
     "text": [
      "Variable prime_tensor x random_tensor :\n",
      " tf.Tensor(\n",
      "[[ -0.8538791  -0.7223988   9.259625    5.6648993 -17.832365 ]\n",
      " [ -7.5785675   7.3662763  27.818344   24.494173  -47.541515 ]\n",
      " [  2.731623   52.86711   -32.285107   44.489544  -65.90114  ]\n",
      " [ -1.098692   -8.453231  -29.255526  -75.789925  115.56174  ]\n",
      " [ 29.59571   -64.56691   -96.67268   -34.81164   -37.68602  ]], shape=(5, 5), dtype=float32)\n"
     ]
    }
   ],
   "source": [
    "print(\"Variable prime_tensor x random_tensor :\\n\", tf.multiply(prime_tensor,random_tensor))"
   ]
  },
  {
   "cell_type": "markdown",
   "id": "3bff5696",
   "metadata": {},
   "source": [
    "#### - Pembagian"
   ]
  },
  {
   "cell_type": "code",
   "execution_count": 10,
   "id": "736c4526",
   "metadata": {},
   "outputs": [
    {
     "name": "stdout",
     "output_type": "stream",
     "text": [
      "Variable prime_tensor : random_tensor :\n",
      " tf.Tensor(\n",
      "[[   -4.684504    -12.458492      2.6998932     8.649756     -6.7854156]\n",
      " [  -22.299728     39.23285      12.977049     21.596973    -17.689802 ]\n",
      " [  351.8055       25.895115    -52.067352     41.560326    -33.51991  ]\n",
      " [-2556.6763     -411.79523    -127.189644    -59.229507     43.621704 ]\n",
      " [  180.05988     -96.659424    -71.26108    -227.53882    -249.66817  ]], shape=(5, 5), dtype=float32)\n",
      "\n",
      "Variable random_tensor : prime_tensor :\n",
      " tf.Tensor(\n",
      "[[-0.21346977 -0.08026654  0.370385    0.11561019 -0.14737491]\n",
      " [-0.0448436   0.02548884  0.07705913  0.04630278 -0.05652975]\n",
      " [ 0.00284248  0.03861732 -0.01920589  0.02406141 -0.02983302]\n",
      " [-0.00039113 -0.00242839 -0.00786228 -0.01688348  0.02292437]\n",
      " [ 0.00555371 -0.0103456  -0.0140329  -0.00439485 -0.00400532]], shape=(5, 5), dtype=float32)\n"
     ]
    }
   ],
   "source": [
    "print(\"Variable prime_tensor : random_tensor :\\n\", tf.divide(prime_tensor,random_tensor))\n",
    "print(\"\\nVariable random_tensor : prime_tensor :\\n\", tf.divide(random_tensor,prime_tensor))"
   ]
  },
  {
   "cell_type": "markdown",
   "id": "0695dabb",
   "metadata": {},
   "source": [
    "#### - Perpangkatan"
   ]
  },
  {
   "cell_type": "code",
   "execution_count": 11,
   "id": "bc756e8e",
   "metadata": {},
   "outputs": [
    {
     "name": "stdout",
     "output_type": "stream",
     "text": [
      "Variable prime_tensor pangkat random_tensor :\n",
      " tf.Tensor(\n",
      "[[ 1.8227738e-01 -1.3962633e-02  2.1782965e+01  2.2733124e-01\n",
      "  -2.0322572e+02]\n",
      " [-8.9819194e-04  6.6924360e-07  1.3995093e+03  4.2530828e+00\n",
      "  -1.6810300e+06]\n",
      " [ 1.9807554e-33  5.4250412e+05 -5.5584384e-05  4.3246236e+00\n",
      "  -7.9317120e+06]\n",
      " [-0.0000000e+00 -0.0000000e+00 -3.4163538e-20 -3.8632917e+03\n",
      "   1.0482283e+15]\n",
      " [ 2.3830402e-29 -1.1974281e-07 -3.1385725e+05 -5.2211991e-37\n",
      "  -0.0000000e+00]], shape=(5, 5), dtype=float32)\n",
      "\n",
      "Variable random_tensor pangkat prime_tensor :\n",
      " tf.Tensor(\n",
      "[[7.4383807e-01 7.6755482e-01 1.9698812e+01 4.8296275e+00 2.0500917e-02]\n",
      " [2.2418578e-01 3.4132357e+00 7.4516602e+01 2.8196239e+01 4.0049716e-03]\n",
      " [1.3533624e+00 1.7406471e+02 5.3706504e-02 4.8983826e+01 4.5233993e-03]\n",
      " [9.2099166e-01 5.5754638e-01 1.3923806e-01 8.5972017e-03 1.0307749e+03]\n",
      " [5.6941595e+00 2.8123176e-02 5.8182180e-03 1.7278722e-01 1.6908614e-01]], shape=(5, 5), dtype=float32)\n"
     ]
    }
   ],
   "source": [
    "print(\"Variable prime_tensor pangkat random_tensor :\\n\", tf.pow(random_tensor, prime_tensor))\n",
    "print(\"\\nVariable random_tensor pangkat prime_tensor :\\n\", tf.pow(prime_tensor, random_tensor))"
   ]
  },
  {
   "cell_type": "markdown",
   "id": "be1b3c5d",
   "metadata": {},
   "source": [
    "### Menampilkan nilai maksimal dan minimal dari variable random_tensor\n",
    "#### - Nilai Maksimal\n",
    "##### Nilai Maksimal dari baris"
   ]
  },
  {
   "cell_type": "code",
   "execution_count": 12,
   "id": "fcabed04",
   "metadata": {},
   "outputs": [
    {
     "data": {
      "text/plain": [
       "array([4, 2, 0, 1, 3], dtype=int64)"
      ]
     },
     "execution_count": 12,
     "metadata": {},
     "output_type": "execute_result"
    }
   ],
   "source": [
    "tf.argmax(random_tensor, axis=0).numpy()"
   ]
  },
  {
   "cell_type": "markdown",
   "id": "9f4252c6",
   "metadata": {},
   "source": [
    "##### Nilai Maksimal dari kolom"
   ]
  },
  {
   "cell_type": "code",
   "execution_count": 13,
   "id": "28bbcec8",
   "metadata": {},
   "outputs": [
    {
     "data": {
      "text/plain": [
       "array([2, 2, 1, 4, 0], dtype=int64)"
      ]
     },
     "execution_count": 13,
     "metadata": {},
     "output_type": "execute_result"
    }
   ],
   "source": [
    "tf.argmax(random_tensor, axis=1).numpy()"
   ]
  },
  {
   "cell_type": "markdown",
   "id": "54ac21ce",
   "metadata": {},
   "source": [
    "#### - Nilai Minimal\n",
    "##### Nilai Minimal dari baris"
   ]
  },
  {
   "cell_type": "code",
   "execution_count": 14,
   "id": "39c51ac0",
   "metadata": {},
   "outputs": [
    {
     "data": {
      "text/plain": [
       "array([1, 4, 4, 3, 1], dtype=int64)"
      ]
     },
     "execution_count": 14,
     "metadata": {},
     "output_type": "execute_result"
    }
   ],
   "source": [
    "tf.argmin(random_tensor, axis=0).numpy()"
   ]
  },
  {
   "cell_type": "markdown",
   "id": "fbd974d1",
   "metadata": {},
   "source": [
    "##### Nilai Minimal dari kolom"
   ]
  },
  {
   "cell_type": "code",
   "execution_count": 15,
   "id": "c1a7c40f",
   "metadata": {},
   "outputs": [
    {
     "data": {
      "text/plain": [
       "array([4, 4, 4, 3, 2], dtype=int64)"
      ]
     },
     "execution_count": 15,
     "metadata": {},
     "output_type": "execute_result"
    }
   ],
   "source": [
    "tf.argmin(random_tensor, axis=1).numpy()"
   ]
  },
  {
   "cell_type": "markdown",
   "id": "59365cda",
   "metadata": {},
   "source": [
    "### Menampilkan hasil dari penggabungan variable random_tensor dengan prime_tensor (concatenation)\n",
    "#### - Penggabungan untuk baris"
   ]
  },
  {
   "cell_type": "code",
   "execution_count": 16,
   "id": "d018fa0a",
   "metadata": {},
   "outputs": [
    {
     "data": {
      "text/plain": [
       "array([[-4.2693955e-01, -2.4079961e-01,  1.8519250e+00,  8.0927134e-01,\n",
       "        -1.6211240e+00],\n",
       "       [-5.8296674e-01,  4.3331036e-01,  1.4641234e+00,  1.0649641e+00,\n",
       "        -1.6393626e+00],\n",
       "       [ 8.8116869e-02,  1.4288409e+00, -7.8744161e-01,  1.0346406e+00,\n",
       "        -1.4021518e+00],\n",
       "       [-2.0730039e-02, -1.4327510e-01, -4.7959879e-01, -1.1311929e+00,\n",
       "         1.6276301e+00],\n",
       "       [ 4.0542069e-01, -8.1730264e-01, -1.1647311e+00, -3.9114204e-01,\n",
       "        -3.8851568e-01],\n",
       "       [ 2.0000000e+00,  3.0000000e+00,  5.0000000e+00,  7.0000000e+00,\n",
       "         1.1000000e+01],\n",
       "       [ 1.3000000e+01,  1.7000000e+01,  1.9000000e+01,  2.3000000e+01,\n",
       "         2.9000000e+01],\n",
       "       [ 3.1000000e+01,  3.7000000e+01,  4.1000000e+01,  4.3000000e+01,\n",
       "         4.7000000e+01],\n",
       "       [ 5.3000000e+01,  5.9000000e+01,  6.1000000e+01,  6.7000000e+01,\n",
       "         7.1000000e+01],\n",
       "       [ 7.3000000e+01,  7.9000000e+01,  8.3000000e+01,  8.9000000e+01,\n",
       "         9.7000000e+01]], dtype=float32)"
      ]
     },
     "execution_count": 16,
     "metadata": {},
     "output_type": "execute_result"
    }
   ],
   "source": [
    "tf.concat([random_tensor,prime_tensor], axis=0).numpy()"
   ]
  },
  {
   "cell_type": "markdown",
   "id": "f72afa80",
   "metadata": {},
   "source": [
    "#### - Penggabungan untuk kolom"
   ]
  },
  {
   "cell_type": "code",
   "execution_count": 17,
   "id": "1ad906cd",
   "metadata": {},
   "outputs": [
    {
     "data": {
      "text/plain": [
       "array([[-4.2693955e-01, -2.4079961e-01,  1.8519250e+00,  8.0927134e-01,\n",
       "        -1.6211240e+00,  2.0000000e+00,  3.0000000e+00,  5.0000000e+00,\n",
       "         7.0000000e+00,  1.1000000e+01],\n",
       "       [-5.8296674e-01,  4.3331036e-01,  1.4641234e+00,  1.0649641e+00,\n",
       "        -1.6393626e+00,  1.3000000e+01,  1.7000000e+01,  1.9000000e+01,\n",
       "         2.3000000e+01,  2.9000000e+01],\n",
       "       [ 8.8116869e-02,  1.4288409e+00, -7.8744161e-01,  1.0346406e+00,\n",
       "        -1.4021518e+00,  3.1000000e+01,  3.7000000e+01,  4.1000000e+01,\n",
       "         4.3000000e+01,  4.7000000e+01],\n",
       "       [-2.0730039e-02, -1.4327510e-01, -4.7959879e-01, -1.1311929e+00,\n",
       "         1.6276301e+00,  5.3000000e+01,  5.9000000e+01,  6.1000000e+01,\n",
       "         6.7000000e+01,  7.1000000e+01],\n",
       "       [ 4.0542069e-01, -8.1730264e-01, -1.1647311e+00, -3.9114204e-01,\n",
       "        -3.8851568e-01,  7.3000000e+01,  7.9000000e+01,  8.3000000e+01,\n",
       "         8.9000000e+01,  9.7000000e+01]], dtype=float32)"
      ]
     },
     "execution_count": 17,
     "metadata": {},
     "output_type": "execute_result"
    }
   ],
   "source": [
    "tf.concat([random_tensor,prime_tensor], axis=1).numpy()"
   ]
  },
  {
   "cell_type": "markdown",
   "id": "c99dc2c9",
   "metadata": {},
   "source": [
    "### Menampilkan hasil sorting dari kedua variable di atas. (descending)\n",
    "#### - Sorting variable random_tensor"
   ]
  },
  {
   "cell_type": "code",
   "execution_count": 18,
   "id": "82f3933b",
   "metadata": {},
   "outputs": [
    {
     "data": {
      "text/plain": [
       "array([[ 1.851925  ,  0.80927134, -0.2407996 , -0.42693955, -1.621124  ],\n",
       "       [ 1.4641234 ,  1.064964  ,  0.43331036, -0.58296674, -1.6393626 ],\n",
       "       [ 1.4288409 ,  1.0346406 ,  0.08811687, -0.7874416 , -1.4021518 ],\n",
       "       [ 1.6276301 , -0.02073004, -0.1432751 , -0.4795988 , -1.1311929 ],\n",
       "       [ 0.4054207 , -0.38851568, -0.39114204, -0.81730264, -1.1647311 ]],\n",
       "      dtype=float32)"
      ]
     },
     "execution_count": 18,
     "metadata": {},
     "output_type": "execute_result"
    }
   ],
   "source": [
    "desc_random_tensor = tf.sort(random_tensor, direction=\"DESCENDING\")\n",
    "desc_random_tensor.numpy()"
   ]
  },
  {
   "cell_type": "markdown",
   "id": "434de0da",
   "metadata": {},
   "source": [
    "#### - Sorting variable prime_tensor"
   ]
  },
  {
   "cell_type": "code",
   "execution_count": 19,
   "id": "1df9eb14",
   "metadata": {},
   "outputs": [
    {
     "data": {
      "text/plain": [
       "array([[11.,  7.,  5.,  3.,  2.],\n",
       "       [29., 23., 19., 17., 13.],\n",
       "       [47., 43., 41., 37., 31.],\n",
       "       [71., 67., 61., 59., 53.],\n",
       "       [97., 89., 83., 79., 73.]], dtype=float32)"
      ]
     },
     "execution_count": 19,
     "metadata": {},
     "output_type": "execute_result"
    }
   ],
   "source": [
    "desc_prime_tensor = tf.sort(prime_tensor, direction=\"DESCENDING\")\n",
    "desc_prime_tensor.numpy()"
   ]
  }
 ],
 "metadata": {
  "kernelspec": {
   "display_name": "Python 3 (ipykernel)",
   "language": "python",
   "name": "python3"
  },
  "language_info": {
   "codemirror_mode": {
    "name": "ipython",
    "version": 3
   },
   "file_extension": ".py",
   "mimetype": "text/x-python",
   "name": "python",
   "nbconvert_exporter": "python",
   "pygments_lexer": "ipython3",
   "version": "3.10.7"
  }
 },
 "nbformat": 4,
 "nbformat_minor": 5
}
