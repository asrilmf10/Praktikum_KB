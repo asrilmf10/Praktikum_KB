{
 "cells": [
  {
   "cell_type": "markdown",
   "id": "aab13d4f",
   "metadata": {},
   "source": [
    "### Import Package"
   ]
  },
  {
   "cell_type": "code",
   "execution_count": 2,
   "id": "c83186c4",
   "metadata": {},
   "outputs": [],
   "source": [
    "import pandas as pd\n",
    "import numpy as np \n",
    "import sklearn as sk \n",
    "import matplotlib.pyplot as plt \n",
    "from sklearn.model_selection import train_test_split\n",
    "from sklearn.metrics import classification_report"
   ]
  },
  {
   "cell_type": "markdown",
   "id": "2eb38e74",
   "metadata": {},
   "source": [
    "### Dataset yang digunakan"
   ]
  },
  {
   "cell_type": "code",
   "execution_count": 3,
   "id": "0bb0fe7c",
   "metadata": {},
   "outputs": [
    {
     "data": {
      "text/html": [
       "<div>\n",
       "<style scoped>\n",
       "    .dataframe tbody tr th:only-of-type {\n",
       "        vertical-align: middle;\n",
       "    }\n",
       "\n",
       "    .dataframe tbody tr th {\n",
       "        vertical-align: top;\n",
       "    }\n",
       "\n",
       "    .dataframe thead th {\n",
       "        text-align: right;\n",
       "    }\n",
       "</style>\n",
       "<table border=\"1\" class=\"dataframe\">\n",
       "  <thead>\n",
       "    <tr style=\"text-align: right;\">\n",
       "      <th></th>\n",
       "      <th>Area</th>\n",
       "      <th>BHK</th>\n",
       "      <th>Bathroom</th>\n",
       "      <th>Furnishing</th>\n",
       "      <th>Locality</th>\n",
       "      <th>Parking</th>\n",
       "      <th>Price</th>\n",
       "      <th>Status</th>\n",
       "      <th>Transaction</th>\n",
       "      <th>Type</th>\n",
       "      <th>Per_Sqft</th>\n",
       "    </tr>\n",
       "  </thead>\n",
       "  <tbody>\n",
       "    <tr>\n",
       "      <th>0</th>\n",
       "      <td>800.0</td>\n",
       "      <td>3</td>\n",
       "      <td>2.0</td>\n",
       "      <td>Semi-Furnished</td>\n",
       "      <td>Rohini Sector 25</td>\n",
       "      <td>1.0</td>\n",
       "      <td>6500000</td>\n",
       "      <td>Ready_to_move</td>\n",
       "      <td>New_Property</td>\n",
       "      <td>Builder_Floor</td>\n",
       "      <td>12500.0</td>\n",
       "    </tr>\n",
       "    <tr>\n",
       "      <th>1</th>\n",
       "      <td>750.0</td>\n",
       "      <td>2</td>\n",
       "      <td>2.0</td>\n",
       "      <td>Semi-Furnished</td>\n",
       "      <td>J R Designers Floors, Rohini Sector 24</td>\n",
       "      <td>1.0</td>\n",
       "      <td>5000000</td>\n",
       "      <td>Ready_to_move</td>\n",
       "      <td>New_Property</td>\n",
       "      <td>Apartment</td>\n",
       "      <td>6667.0</td>\n",
       "    </tr>\n",
       "    <tr>\n",
       "      <th>2</th>\n",
       "      <td>950.0</td>\n",
       "      <td>2</td>\n",
       "      <td>2.0</td>\n",
       "      <td>Furnished</td>\n",
       "      <td>Citizen Apartment, Rohini Sector 13</td>\n",
       "      <td>1.0</td>\n",
       "      <td>15500000</td>\n",
       "      <td>Ready_to_move</td>\n",
       "      <td>Resale</td>\n",
       "      <td>Apartment</td>\n",
       "      <td>6667.0</td>\n",
       "    </tr>\n",
       "    <tr>\n",
       "      <th>3</th>\n",
       "      <td>600.0</td>\n",
       "      <td>2</td>\n",
       "      <td>2.0</td>\n",
       "      <td>Semi-Furnished</td>\n",
       "      <td>Rohini Sector 24</td>\n",
       "      <td>1.0</td>\n",
       "      <td>4200000</td>\n",
       "      <td>Ready_to_move</td>\n",
       "      <td>Resale</td>\n",
       "      <td>Builder_Floor</td>\n",
       "      <td>6667.0</td>\n",
       "    </tr>\n",
       "    <tr>\n",
       "      <th>4</th>\n",
       "      <td>650.0</td>\n",
       "      <td>2</td>\n",
       "      <td>2.0</td>\n",
       "      <td>Semi-Furnished</td>\n",
       "      <td>Rohini Sector 24 carpet area 650 sqft status R...</td>\n",
       "      <td>1.0</td>\n",
       "      <td>6200000</td>\n",
       "      <td>Ready_to_move</td>\n",
       "      <td>New_Property</td>\n",
       "      <td>Builder_Floor</td>\n",
       "      <td>6667.0</td>\n",
       "    </tr>\n",
       "  </tbody>\n",
       "</table>\n",
       "</div>"
      ],
      "text/plain": [
       "    Area  BHK  Bathroom      Furnishing  \\\n",
       "0  800.0    3       2.0  Semi-Furnished   \n",
       "1  750.0    2       2.0  Semi-Furnished   \n",
       "2  950.0    2       2.0       Furnished   \n",
       "3  600.0    2       2.0  Semi-Furnished   \n",
       "4  650.0    2       2.0  Semi-Furnished   \n",
       "\n",
       "                                            Locality  Parking     Price  \\\n",
       "0                                   Rohini Sector 25      1.0   6500000   \n",
       "1             J R Designers Floors, Rohini Sector 24      1.0   5000000   \n",
       "2                Citizen Apartment, Rohini Sector 13      1.0  15500000   \n",
       "3                                   Rohini Sector 24      1.0   4200000   \n",
       "4  Rohini Sector 24 carpet area 650 sqft status R...      1.0   6200000   \n",
       "\n",
       "          Status   Transaction           Type  Per_Sqft  \n",
       "0  Ready_to_move  New_Property  Builder_Floor   12500.0  \n",
       "1  Ready_to_move  New_Property      Apartment    6667.0  \n",
       "2  Ready_to_move        Resale      Apartment    6667.0  \n",
       "3  Ready_to_move        Resale  Builder_Floor    6667.0  \n",
       "4  Ready_to_move  New_Property  Builder_Floor    6667.0  "
      ]
     },
     "execution_count": 3,
     "metadata": {},
     "output_type": "execute_result"
    }
   ],
   "source": [
    "data = pd.read_csv(\"PrediksiHargaRumah.csv\")\n",
    "data.head()"
   ]
  },
  {
   "cell_type": "markdown",
   "id": "035017ed",
   "metadata": {},
   "source": [
    "### Dataset yang digunakan telah bersih (Tidak ada data Null & Duplikat)"
   ]
  },
  {
   "cell_type": "code",
   "execution_count": 4,
   "id": "09647590",
   "metadata": {
    "scrolled": true
   },
   "outputs": [
    {
     "data": {
      "text/plain": [
       "Area           0\n",
       "BHK            0\n",
       "Bathroom       0\n",
       "Furnishing     0\n",
       "Locality       0\n",
       "Parking        0\n",
       "Price          0\n",
       "Status         0\n",
       "Transaction    0\n",
       "Type           0\n",
       "Per_Sqft       0\n",
       "dtype: int64"
      ]
     },
     "execution_count": 4,
     "metadata": {},
     "output_type": "execute_result"
    }
   ],
   "source": [
    "data.isna().sum()"
   ]
  },
  {
   "cell_type": "code",
   "execution_count": 5,
   "id": "2f00ebc4",
   "metadata": {},
   "outputs": [
    {
     "data": {
      "text/plain": [
       "0"
      ]
     },
     "execution_count": 5,
     "metadata": {},
     "output_type": "execute_result"
    }
   ],
   "source": [
    "data.duplicated().sum()"
   ]
  },
  {
   "cell_type": "markdown",
   "id": "2a6f64f2",
   "metadata": {},
   "source": [
    "### Mengubah nama atribut"
   ]
  },
  {
   "cell_type": "code",
   "execution_count": 6,
   "id": "8f42482a",
   "metadata": {},
   "outputs": [],
   "source": [
    "data = data.rename(columns={'BHK':'Dapur, Kamar Tidur, Hall','Bathroom':'Kamar Mandi',\n",
    "                            'Furnishing':'Perabotan','Locality':'Lokasi','Parking':'Parkir',\n",
    "                            'Price':'Harga','Transaction':'Pembayaran','Type':'Tipe','Per_Sqft':'Luas Rumah'})"
   ]
  },
  {
   "cell_type": "code",
   "execution_count": 7,
   "id": "4426b0d8",
   "metadata": {},
   "outputs": [
    {
     "name": "stdout",
     "output_type": "stream",
     "text": [
      "<class 'pandas.core.frame.DataFrame'>\n",
      "RangeIndex: 1176 entries, 0 to 1175\n",
      "Data columns (total 11 columns):\n",
      " #   Column                    Non-Null Count  Dtype  \n",
      "---  ------                    --------------  -----  \n",
      " 0   Area                      1176 non-null   float64\n",
      " 1   Dapur, Kamar Tidur, Hall  1176 non-null   int64  \n",
      " 2   Kamar Mandi               1176 non-null   float64\n",
      " 3   Perabotan                 1176 non-null   object \n",
      " 4   Lokasi                    1176 non-null   object \n",
      " 5   Parkir                    1176 non-null   float64\n",
      " 6   Harga                     1176 non-null   int64  \n",
      " 7   Status                    1176 non-null   object \n",
      " 8   Pembayaran                1176 non-null   object \n",
      " 9   Tipe                      1176 non-null   object \n",
      " 10  Luas Rumah                1176 non-null   float64\n",
      "dtypes: float64(4), int64(2), object(5)\n",
      "memory usage: 101.2+ KB\n"
     ]
    }
   ],
   "source": [
    "data.info()"
   ]
  },
  {
   "cell_type": "markdown",
   "id": "83135f8c",
   "metadata": {},
   "source": [
    "### Split Data"
   ]
  },
  {
   "cell_type": "code",
   "execution_count": 8,
   "id": "1063204c",
   "metadata": {},
   "outputs": [],
   "source": [
    "x = data[['Area', 'Dapur, Kamar Tidur, Hall', 'Parkir', 'Luas Rumah']]\n",
    "y = data['Harga']"
   ]
  },
  {
   "cell_type": "code",
   "execution_count": 9,
   "id": "59f97e1d",
   "metadata": {},
   "outputs": [],
   "source": [
    "x_train, x_test, y_train, y_test = train_test_split(x, y, test_size=0.3, random_state=42)"
   ]
  },
  {
   "cell_type": "markdown",
   "id": "233ba283",
   "metadata": {},
   "source": [
    "### Algoritma yang digunakan\n",
    "#### 1. K-Nearest Neighbors (KNN)"
   ]
  },
  {
   "cell_type": "code",
   "execution_count": 10,
   "id": "e9e45b9a",
   "metadata": {},
   "outputs": [],
   "source": [
    "from sklearn.neighbors import KNeighborsClassifier\n",
    "\n",
    "knn = KNeighborsClassifier() "
   ]
  },
  {
   "cell_type": "code",
   "execution_count": 11,
   "id": "4960e0e6",
   "metadata": {},
   "outputs": [
    {
     "data": {
      "text/html": [
       "<style>#sk-container-id-1 {color: black;background-color: white;}#sk-container-id-1 pre{padding: 0;}#sk-container-id-1 div.sk-toggleable {background-color: white;}#sk-container-id-1 label.sk-toggleable__label {cursor: pointer;display: block;width: 100%;margin-bottom: 0;padding: 0.3em;box-sizing: border-box;text-align: center;}#sk-container-id-1 label.sk-toggleable__label-arrow:before {content: \"▸\";float: left;margin-right: 0.25em;color: #696969;}#sk-container-id-1 label.sk-toggleable__label-arrow:hover:before {color: black;}#sk-container-id-1 div.sk-estimator:hover label.sk-toggleable__label-arrow:before {color: black;}#sk-container-id-1 div.sk-toggleable__content {max-height: 0;max-width: 0;overflow: hidden;text-align: left;background-color: #f0f8ff;}#sk-container-id-1 div.sk-toggleable__content pre {margin: 0.2em;color: black;border-radius: 0.25em;background-color: #f0f8ff;}#sk-container-id-1 input.sk-toggleable__control:checked~div.sk-toggleable__content {max-height: 200px;max-width: 100%;overflow: auto;}#sk-container-id-1 input.sk-toggleable__control:checked~label.sk-toggleable__label-arrow:before {content: \"▾\";}#sk-container-id-1 div.sk-estimator input.sk-toggleable__control:checked~label.sk-toggleable__label {background-color: #d4ebff;}#sk-container-id-1 div.sk-label input.sk-toggleable__control:checked~label.sk-toggleable__label {background-color: #d4ebff;}#sk-container-id-1 input.sk-hidden--visually {border: 0;clip: rect(1px 1px 1px 1px);clip: rect(1px, 1px, 1px, 1px);height: 1px;margin: -1px;overflow: hidden;padding: 0;position: absolute;width: 1px;}#sk-container-id-1 div.sk-estimator {font-family: monospace;background-color: #f0f8ff;border: 1px dotted black;border-radius: 0.25em;box-sizing: border-box;margin-bottom: 0.5em;}#sk-container-id-1 div.sk-estimator:hover {background-color: #d4ebff;}#sk-container-id-1 div.sk-parallel-item::after {content: \"\";width: 100%;border-bottom: 1px solid gray;flex-grow: 1;}#sk-container-id-1 div.sk-label:hover label.sk-toggleable__label {background-color: #d4ebff;}#sk-container-id-1 div.sk-serial::before {content: \"\";position: absolute;border-left: 1px solid gray;box-sizing: border-box;top: 0;bottom: 0;left: 50%;z-index: 0;}#sk-container-id-1 div.sk-serial {display: flex;flex-direction: column;align-items: center;background-color: white;padding-right: 0.2em;padding-left: 0.2em;position: relative;}#sk-container-id-1 div.sk-item {position: relative;z-index: 1;}#sk-container-id-1 div.sk-parallel {display: flex;align-items: stretch;justify-content: center;background-color: white;position: relative;}#sk-container-id-1 div.sk-item::before, #sk-container-id-1 div.sk-parallel-item::before {content: \"\";position: absolute;border-left: 1px solid gray;box-sizing: border-box;top: 0;bottom: 0;left: 50%;z-index: -1;}#sk-container-id-1 div.sk-parallel-item {display: flex;flex-direction: column;z-index: 1;position: relative;background-color: white;}#sk-container-id-1 div.sk-parallel-item:first-child::after {align-self: flex-end;width: 50%;}#sk-container-id-1 div.sk-parallel-item:last-child::after {align-self: flex-start;width: 50%;}#sk-container-id-1 div.sk-parallel-item:only-child::after {width: 0;}#sk-container-id-1 div.sk-dashed-wrapped {border: 1px dashed gray;margin: 0 0.4em 0.5em 0.4em;box-sizing: border-box;padding-bottom: 0.4em;background-color: white;}#sk-container-id-1 div.sk-label label {font-family: monospace;font-weight: bold;display: inline-block;line-height: 1.2em;}#sk-container-id-1 div.sk-label-container {text-align: center;}#sk-container-id-1 div.sk-container {/* jupyter's `normalize.less` sets `[hidden] { display: none; }` but bootstrap.min.css set `[hidden] { display: none !important; }` so we also need the `!important` here to be able to override the default hidden behavior on the sphinx rendered scikit-learn.org. See: https://github.com/scikit-learn/scikit-learn/issues/21755 */display: inline-block !important;position: relative;}#sk-container-id-1 div.sk-text-repr-fallback {display: none;}</style><div id=\"sk-container-id-1\" class=\"sk-top-container\"><div class=\"sk-text-repr-fallback\"><pre>KNeighborsClassifier()</pre><b>In a Jupyter environment, please rerun this cell to show the HTML representation or trust the notebook. <br />On GitHub, the HTML representation is unable to render, please try loading this page with nbviewer.org.</b></div><div class=\"sk-container\" hidden><div class=\"sk-item\"><div class=\"sk-estimator sk-toggleable\"><input class=\"sk-toggleable__control sk-hidden--visually\" id=\"sk-estimator-id-1\" type=\"checkbox\" checked><label for=\"sk-estimator-id-1\" class=\"sk-toggleable__label sk-toggleable__label-arrow\">KNeighborsClassifier</label><div class=\"sk-toggleable__content\"><pre>KNeighborsClassifier()</pre></div></div></div></div></div>"
      ],
      "text/plain": [
       "KNeighborsClassifier()"
      ]
     },
     "execution_count": 11,
     "metadata": {},
     "output_type": "execute_result"
    }
   ],
   "source": [
    "knn.fit(x_train, y_train)"
   ]
  },
  {
   "cell_type": "code",
   "execution_count": 12,
   "id": "7a2afcb9",
   "metadata": {},
   "outputs": [
    {
     "data": {
      "text/plain": [
       "0.0226628895184136"
      ]
     },
     "execution_count": 12,
     "metadata": {},
     "output_type": "execute_result"
    }
   ],
   "source": [
    "knn.score(x_test, y_test)"
   ]
  },
  {
   "cell_type": "code",
   "execution_count": 13,
   "id": "c3a93b79",
   "metadata": {},
   "outputs": [],
   "source": [
    "y_pred = knn.predict(x_test) "
   ]
  },
  {
   "cell_type": "code",
   "execution_count": 14,
   "id": "8f536070",
   "metadata": {},
   "outputs": [
    {
     "name": "stdout",
     "output_type": "stream",
     "text": [
      "              precision    recall  f1-score   support\n",
      "\n",
      "     1000000       0.00      0.00      0.00         2\n",
      "     1200000       0.00      0.00      0.00         0\n",
      "     1490000       0.00      0.00      0.00         0\n",
      "     1500000       0.25      0.25      0.25         4\n",
      "     1550000       0.00      0.00      0.00         1\n",
      "     1600000       0.00      0.00      0.00         3\n",
      "     1650000       0.00      0.00      0.00         1\n",
      "     1700000       0.00      0.00      0.00         2\n",
      "     1800000       0.00      0.00      0.00         1\n",
      "     1850000       0.00      0.00      0.00         1\n",
      "     1900000       0.00      0.00      0.00         0\n",
      "     1950000       0.00      0.00      0.00         0\n",
      "     2000000       0.50      0.40      0.44         5\n",
      "     2100000       0.00      0.00      0.00         1\n",
      "     2200000       0.00      0.00      0.00         2\n",
      "     2300000       0.00      0.00      0.00         3\n",
      "     2350000       0.00      0.00      0.00         0\n",
      "     2400000       0.00      0.00      0.00         2\n",
      "     2500000       0.00      0.00      0.00         2\n",
      "     2600000       0.50      0.33      0.40         3\n",
      "     2670000       0.00      0.00      0.00         1\n",
      "     2700000       0.00      0.00      0.00         1\n",
      "     2750000       0.00      0.00      0.00         0\n",
      "     2800000       0.00      0.00      0.00         0\n",
      "     2850000       0.00      0.00      0.00         1\n",
      "     2900000       0.00      0.00      0.00         0\n",
      "     2940000       0.00      0.00      0.00         1\n",
      "     3000000       0.00      0.00      0.00         3\n",
      "     3100000       0.00      0.00      0.00         0\n",
      "     3200000       0.00      0.00      0.00         2\n",
      "     3300000       0.00      0.00      0.00         3\n",
      "     3400000       0.00      0.00      0.00         2\n",
      "     3500000       0.00      0.00      0.00         2\n",
      "     3600000       0.00      0.00      0.00         2\n",
      "     3700000       0.00      0.00      0.00         1\n",
      "     3800000       0.00      0.00      0.00         3\n",
      "     3900000       0.00      0.00      0.00         1\n",
      "     3950000       0.00      0.00      0.00         1\n",
      "     4000000       0.00      0.00      0.00         1\n",
      "     4100000       0.00      0.00      0.00         1\n",
      "     4200000       0.00      0.00      0.00         1\n",
      "     4400000       0.00      0.00      0.00         1\n",
      "     4500000       0.00      0.00      0.00         5\n",
      "     4600000       0.00      0.00      0.00         1\n",
      "     4700000       0.00      0.00      0.00         1\n",
      "     4800000       0.00      0.00      0.00         1\n",
      "     5000000       0.20      0.50      0.29         2\n",
      "     5200000       0.00      0.00      0.00         1\n",
      "     5400000       0.00      0.00      0.00         1\n",
      "     5500000       0.00      0.00      0.00         8\n",
      "     5510000       0.00      0.00      0.00         1\n",
      "     5600000       0.00      0.00      0.00         0\n",
      "     5700000       0.00      0.00      0.00         2\n",
      "     5800000       0.00      0.00      0.00         0\n",
      "     5890000       0.00      0.00      0.00         1\n",
      "     5900000       0.00      0.00      0.00         0\n",
      "     5990000       0.00      0.00      0.00         1\n",
      "     6000000       0.00      0.00      0.00        10\n",
      "     6200000       0.00      0.00      0.00         1\n",
      "     6300000       0.00      0.00      0.00         3\n",
      "     6400000       0.00      0.00      0.00         1\n",
      "     6500000       0.25      0.12      0.17         8\n",
      "     6540000       0.00      0.00      0.00         1\n",
      "     6700000       0.00      0.00      0.00         1\n",
      "     6800000       0.00      0.00      0.00         0\n",
      "     6990000       0.00      0.00      0.00         1\n",
      "     7000000       0.00      0.00      0.00         5\n",
      "     7300000       0.00      0.00      0.00         2\n",
      "     7500000       0.00      0.00      0.00         4\n",
      "     7600000       0.00      0.00      0.00         0\n",
      "     7800000       0.00      0.00      0.00         1\n",
      "     8000000       0.00      0.00      0.00         6\n",
      "     8100000       0.00      0.00      0.00         1\n",
      "     8300000       0.00      0.00      0.00         1\n",
      "     8500000       0.00      0.00      0.00         2\n",
      "     8550000       0.00      0.00      0.00         0\n",
      "     9000000       0.00      0.00      0.00         1\n",
      "     9030000       0.00      0.00      0.00         1\n",
      "     9200000       0.00      0.00      0.00         2\n",
      "     9300000       0.00      0.00      0.00         1\n",
      "     9500000       0.00      0.00      0.00         1\n",
      "    10000000       0.00      0.00      0.00         5\n",
      "    10200000       0.00      0.00      0.00         1\n",
      "    10300000       0.00      0.00      0.00         1\n",
      "    10400000       0.00      0.00      0.00         0\n",
      "    10500000       0.00      0.00      0.00         1\n",
      "    11000000       0.00      0.00      0.00         3\n",
      "    11100000       0.00      0.00      0.00         0\n",
      "    11300000       0.00      0.00      0.00         0\n",
      "    11400000       0.00      0.00      0.00         0\n",
      "    11500000       0.00      0.00      0.00         3\n",
      "    12000000       0.00      0.00      0.00         6\n",
      "    12500000       0.00      0.00      0.00         2\n",
      "    12600000       0.00      0.00      0.00         1\n",
      "    13000000       0.00      0.00      0.00         3\n",
      "    13100000       0.00      0.00      0.00         1\n",
      "    13200000       0.00      0.00      0.00         0\n",
      "    13500000       0.00      0.00      0.00         7\n",
      "    13600000       0.00      0.00      0.00         1\n",
      "    14000000       0.00      0.00      0.00         1\n",
      "    14200000       0.00      0.00      0.00         1\n",
      "    14300000       0.00      0.00      0.00         1\n",
      "    14500000       0.00      0.00      0.00         2\n",
      "    14600000       0.00      0.00      0.00         1\n",
      "    14700000       0.00      0.00      0.00         0\n",
      "    14800000       0.00      0.00      0.00         0\n",
      "    14900000       0.00      0.00      0.00         1\n",
      "    15000000       0.00      0.00      0.00        10\n",
      "    15200000       0.00      0.00      0.00         0\n",
      "    15500000       0.00      0.00      0.00         4\n",
      "    15800000       0.00      0.00      0.00         5\n",
      "    16000000       0.00      0.00      0.00         7\n",
      "    16200000       0.00      0.00      0.00         1\n",
      "    16500000       0.00      0.00      0.00         2\n",
      "    17000000       0.00      0.00      0.00         1\n",
      "    17200000       0.00      0.00      0.00         1\n",
      "    17400000       0.00      0.00      0.00         0\n",
      "    17500000       0.00      0.00      0.00         3\n",
      "    18000000       0.00      0.00      0.00         1\n",
      "    18500000       0.00      0.00      0.00         3\n",
      "    18800000       0.00      0.00      0.00         1\n",
      "    19000000       0.00      0.00      0.00         5\n",
      "    19500000       0.00      0.00      0.00         0\n",
      "    20000000       0.00      0.00      0.00         7\n",
      "    20500000       0.00      0.00      0.00         1\n",
      "    21000000       0.00      0.00      0.00         4\n",
      "    21100000       0.00      0.00      0.00         1\n",
      "    21500000       0.00      0.00      0.00         0\n",
      "    21900000       0.00      0.00      0.00         0\n",
      "    22000000       0.00      0.00      0.00         3\n",
      "    22500000       0.00      0.00      0.00         4\n",
      "    23000000       0.00      0.00      0.00         2\n",
      "    23100000       0.00      0.00      0.00         0\n",
      "    23500000       0.00      0.00      0.00         0\n",
      "    24000000       0.00      0.00      0.00         3\n",
      "    24500000       0.00      0.00      0.00         1\n",
      "    24700000       0.00      0.00      0.00         1\n",
      "    24900000       0.00      0.00      0.00         1\n",
      "    25000000       0.00      0.00      0.00         8\n",
      "    25500000       0.00      0.00      0.00         1\n",
      "    25900000       0.00      0.00      0.00         0\n",
      "    26000000       0.00      0.00      0.00         7\n",
      "    26500000       0.00      0.00      0.00         1\n",
      "    27000000       0.00      0.00      0.00         0\n",
      "    27500000       0.00      0.00      0.00         2\n",
      "    28500000       0.00      0.00      0.00         0\n",
      "    28900000       0.00      0.00      0.00         1\n",
      "    29000000       0.00      0.00      0.00         1\n",
      "    29500000       0.00      0.00      0.00         0\n",
      "    30000000       0.00      0.00      0.00         2\n",
      "    31000000       0.00      0.00      0.00         1\n",
      "    31500000       0.00      0.00      0.00         2\n",
      "    32500000       0.00      0.00      0.00         2\n",
      "    33500000       0.00      0.00      0.00         1\n",
      "    33700000       0.00      0.00      0.00         0\n",
      "    34000000       0.00      0.00      0.00         2\n",
      "    34300000       0.00      0.00      0.00         1\n",
      "    35000000       0.00      0.00      0.00         1\n",
      "    36200000       0.00      0.00      0.00         0\n",
      "    36500000       0.00      0.00      0.00         0\n",
      "    37500000       0.00      0.00      0.00         5\n",
      "    38000000       0.00      0.00      0.00         1\n",
      "    38500000       0.00      0.00      0.00         1\n",
      "    39000000       0.00      0.00      0.00         1\n",
      "    40000000       0.00      0.00      0.00         5\n",
      "    42500000       0.00      0.00      0.00         5\n",
      "    43000000       0.00      0.00      0.00         0\n",
      "    43200000       0.00      0.00      0.00         1\n",
      "    43500000       0.00      0.00      0.00         0\n",
      "    44000000       0.00      0.00      0.00         1\n",
      "    45000000       0.00      0.00      0.00         1\n",
      "    46000000       0.00      0.00      0.00         1\n",
      "    47000000       0.00      0.00      0.00         1\n",
      "    47500000       0.00      0.00      0.00         2\n",
      "    50000000       0.00      0.00      0.00         1\n",
      "    51000000       0.00      0.00      0.00         2\n",
      "    52300000       0.00      0.00      0.00         1\n",
      "    52500000       0.00      0.00      0.00         1\n",
      "    55000000       0.00      0.00      0.00         4\n",
      "    55300000       0.00      0.00      0.00         1\n",
      "    56000000       0.00      0.00      0.00         1\n",
      "    60000000       0.00      0.00      0.00         6\n",
      "    62500000       0.00      0.00      0.00         0\n",
      "    63000000       0.00      0.00      0.00         1\n",
      "    65000000       0.00      0.00      0.00         3\n",
      "    70000000       0.50      0.50      0.50         2\n",
      "    72500000       0.00      0.00      0.00         2\n",
      "    73700000       0.00      0.00      0.00         1\n",
      "    75000000       0.33      0.50      0.40         2\n",
      "    82500000       0.00      0.00      0.00         1\n",
      "    87500000       0.00      0.00      0.00         1\n",
      "    90000000       0.00      0.00      0.00         1\n",
      "   100000000       0.00      0.00      0.00         2\n",
      "   110000000       0.00      0.00      0.00         1\n",
      "   135500000       0.00      0.00      0.00         1\n",
      "   160000000       0.00      0.00      0.00         1\n",
      "   170000000       0.00      0.00      0.00         1\n",
      "   180000000       0.00      0.00      0.00         1\n",
      "   190000000       0.00      0.00      0.00         1\n",
      "   220000000       0.00      0.00      0.00         1\n",
      "   240000000       0.00      0.00      0.00         1\n",
      "\n",
      "    accuracy                           0.02       353\n",
      "   macro avg       0.01      0.01      0.01       353\n",
      "weighted avg       0.03      0.02      0.02       353\n",
      "\n"
     ]
    },
    {
     "name": "stderr",
     "output_type": "stream",
     "text": [
      "C:\\Users\\ASUS\\AppData\\Local\\Programs\\Python\\Python310\\lib\\site-packages\\sklearn\\metrics\\_classification.py:1334: UndefinedMetricWarning: Precision and F-score are ill-defined and being set to 0.0 in labels with no predicted samples. Use `zero_division` parameter to control this behavior.\n",
      "  _warn_prf(average, modifier, msg_start, len(result))\n",
      "C:\\Users\\ASUS\\AppData\\Local\\Programs\\Python\\Python310\\lib\\site-packages\\sklearn\\metrics\\_classification.py:1334: UndefinedMetricWarning: Recall and F-score are ill-defined and being set to 0.0 in labels with no true samples. Use `zero_division` parameter to control this behavior.\n",
      "  _warn_prf(average, modifier, msg_start, len(result))\n",
      "C:\\Users\\ASUS\\AppData\\Local\\Programs\\Python\\Python310\\lib\\site-packages\\sklearn\\metrics\\_classification.py:1334: UndefinedMetricWarning: Precision and F-score are ill-defined and being set to 0.0 in labels with no predicted samples. Use `zero_division` parameter to control this behavior.\n",
      "  _warn_prf(average, modifier, msg_start, len(result))\n",
      "C:\\Users\\ASUS\\AppData\\Local\\Programs\\Python\\Python310\\lib\\site-packages\\sklearn\\metrics\\_classification.py:1334: UndefinedMetricWarning: Recall and F-score are ill-defined and being set to 0.0 in labels with no true samples. Use `zero_division` parameter to control this behavior.\n",
      "  _warn_prf(average, modifier, msg_start, len(result))\n",
      "C:\\Users\\ASUS\\AppData\\Local\\Programs\\Python\\Python310\\lib\\site-packages\\sklearn\\metrics\\_classification.py:1334: UndefinedMetricWarning: Precision and F-score are ill-defined and being set to 0.0 in labels with no predicted samples. Use `zero_division` parameter to control this behavior.\n",
      "  _warn_prf(average, modifier, msg_start, len(result))\n",
      "C:\\Users\\ASUS\\AppData\\Local\\Programs\\Python\\Python310\\lib\\site-packages\\sklearn\\metrics\\_classification.py:1334: UndefinedMetricWarning: Recall and F-score are ill-defined and being set to 0.0 in labels with no true samples. Use `zero_division` parameter to control this behavior.\n",
      "  _warn_prf(average, modifier, msg_start, len(result))\n"
     ]
    }
   ],
   "source": [
    "print(classification_report(y_test, y_pred))"
   ]
  },
  {
   "cell_type": "markdown",
   "id": "460ba555",
   "metadata": {},
   "source": [
    "#### 2. Decision Tree"
   ]
  },
  {
   "cell_type": "code",
   "execution_count": 15,
   "id": "db765df0",
   "metadata": {},
   "outputs": [],
   "source": [
    "from sklearn.tree import DecisionTreeClassifier\n",
    "\n",
    "dt = DecisionTreeClassifier()"
   ]
  },
  {
   "cell_type": "code",
   "execution_count": 16,
   "id": "184c9012",
   "metadata": {},
   "outputs": [
    {
     "name": "stderr",
     "output_type": "stream",
     "text": [
      "C:\\Users\\ASUS\\AppData\\Local\\Programs\\Python\\Python310\\lib\\site-packages\\sklearn\\model_selection\\_split.py:684: UserWarning: The least populated class in y has only 1 members, which is less than n_splits=10.\n",
      "  warnings.warn(\n"
     ]
    },
    {
     "data": {
      "text/html": [
       "<style>#sk-container-id-2 {color: black;background-color: white;}#sk-container-id-2 pre{padding: 0;}#sk-container-id-2 div.sk-toggleable {background-color: white;}#sk-container-id-2 label.sk-toggleable__label {cursor: pointer;display: block;width: 100%;margin-bottom: 0;padding: 0.3em;box-sizing: border-box;text-align: center;}#sk-container-id-2 label.sk-toggleable__label-arrow:before {content: \"▸\";float: left;margin-right: 0.25em;color: #696969;}#sk-container-id-2 label.sk-toggleable__label-arrow:hover:before {color: black;}#sk-container-id-2 div.sk-estimator:hover label.sk-toggleable__label-arrow:before {color: black;}#sk-container-id-2 div.sk-toggleable__content {max-height: 0;max-width: 0;overflow: hidden;text-align: left;background-color: #f0f8ff;}#sk-container-id-2 div.sk-toggleable__content pre {margin: 0.2em;color: black;border-radius: 0.25em;background-color: #f0f8ff;}#sk-container-id-2 input.sk-toggleable__control:checked~div.sk-toggleable__content {max-height: 200px;max-width: 100%;overflow: auto;}#sk-container-id-2 input.sk-toggleable__control:checked~label.sk-toggleable__label-arrow:before {content: \"▾\";}#sk-container-id-2 div.sk-estimator input.sk-toggleable__control:checked~label.sk-toggleable__label {background-color: #d4ebff;}#sk-container-id-2 div.sk-label input.sk-toggleable__control:checked~label.sk-toggleable__label {background-color: #d4ebff;}#sk-container-id-2 input.sk-hidden--visually {border: 0;clip: rect(1px 1px 1px 1px);clip: rect(1px, 1px, 1px, 1px);height: 1px;margin: -1px;overflow: hidden;padding: 0;position: absolute;width: 1px;}#sk-container-id-2 div.sk-estimator {font-family: monospace;background-color: #f0f8ff;border: 1px dotted black;border-radius: 0.25em;box-sizing: border-box;margin-bottom: 0.5em;}#sk-container-id-2 div.sk-estimator:hover {background-color: #d4ebff;}#sk-container-id-2 div.sk-parallel-item::after {content: \"\";width: 100%;border-bottom: 1px solid gray;flex-grow: 1;}#sk-container-id-2 div.sk-label:hover label.sk-toggleable__label {background-color: #d4ebff;}#sk-container-id-2 div.sk-serial::before {content: \"\";position: absolute;border-left: 1px solid gray;box-sizing: border-box;top: 0;bottom: 0;left: 50%;z-index: 0;}#sk-container-id-2 div.sk-serial {display: flex;flex-direction: column;align-items: center;background-color: white;padding-right: 0.2em;padding-left: 0.2em;position: relative;}#sk-container-id-2 div.sk-item {position: relative;z-index: 1;}#sk-container-id-2 div.sk-parallel {display: flex;align-items: stretch;justify-content: center;background-color: white;position: relative;}#sk-container-id-2 div.sk-item::before, #sk-container-id-2 div.sk-parallel-item::before {content: \"\";position: absolute;border-left: 1px solid gray;box-sizing: border-box;top: 0;bottom: 0;left: 50%;z-index: -1;}#sk-container-id-2 div.sk-parallel-item {display: flex;flex-direction: column;z-index: 1;position: relative;background-color: white;}#sk-container-id-2 div.sk-parallel-item:first-child::after {align-self: flex-end;width: 50%;}#sk-container-id-2 div.sk-parallel-item:last-child::after {align-self: flex-start;width: 50%;}#sk-container-id-2 div.sk-parallel-item:only-child::after {width: 0;}#sk-container-id-2 div.sk-dashed-wrapped {border: 1px dashed gray;margin: 0 0.4em 0.5em 0.4em;box-sizing: border-box;padding-bottom: 0.4em;background-color: white;}#sk-container-id-2 div.sk-label label {font-family: monospace;font-weight: bold;display: inline-block;line-height: 1.2em;}#sk-container-id-2 div.sk-label-container {text-align: center;}#sk-container-id-2 div.sk-container {/* jupyter's `normalize.less` sets `[hidden] { display: none; }` but bootstrap.min.css set `[hidden] { display: none !important; }` so we also need the `!important` here to be able to override the default hidden behavior on the sphinx rendered scikit-learn.org. See: https://github.com/scikit-learn/scikit-learn/issues/21755 */display: inline-block !important;position: relative;}#sk-container-id-2 div.sk-text-repr-fallback {display: none;}</style><div id=\"sk-container-id-2\" class=\"sk-top-container\"><div class=\"sk-text-repr-fallback\"><pre>GridSearchCV(cv=10, estimator=DecisionTreeClassifier(),\n",
       "             param_grid={&#x27;max_depth&#x27;: [2, 4, 5, 6, 7]}, scoring=&#x27;accuracy&#x27;)</pre><b>In a Jupyter environment, please rerun this cell to show the HTML representation or trust the notebook. <br />On GitHub, the HTML representation is unable to render, please try loading this page with nbviewer.org.</b></div><div class=\"sk-container\" hidden><div class=\"sk-item sk-dashed-wrapped\"><div class=\"sk-label-container\"><div class=\"sk-label sk-toggleable\"><input class=\"sk-toggleable__control sk-hidden--visually\" id=\"sk-estimator-id-2\" type=\"checkbox\" ><label for=\"sk-estimator-id-2\" class=\"sk-toggleable__label sk-toggleable__label-arrow\">GridSearchCV</label><div class=\"sk-toggleable__content\"><pre>GridSearchCV(cv=10, estimator=DecisionTreeClassifier(),\n",
       "             param_grid={&#x27;max_depth&#x27;: [2, 4, 5, 6, 7]}, scoring=&#x27;accuracy&#x27;)</pre></div></div></div><div class=\"sk-parallel\"><div class=\"sk-parallel-item\"><div class=\"sk-item\"><div class=\"sk-label-container\"><div class=\"sk-label sk-toggleable\"><input class=\"sk-toggleable__control sk-hidden--visually\" id=\"sk-estimator-id-3\" type=\"checkbox\" ><label for=\"sk-estimator-id-3\" class=\"sk-toggleable__label sk-toggleable__label-arrow\">estimator: DecisionTreeClassifier</label><div class=\"sk-toggleable__content\"><pre>DecisionTreeClassifier()</pre></div></div></div><div class=\"sk-serial\"><div class=\"sk-item\"><div class=\"sk-estimator sk-toggleable\"><input class=\"sk-toggleable__control sk-hidden--visually\" id=\"sk-estimator-id-4\" type=\"checkbox\" ><label for=\"sk-estimator-id-4\" class=\"sk-toggleable__label sk-toggleable__label-arrow\">DecisionTreeClassifier</label><div class=\"sk-toggleable__content\"><pre>DecisionTreeClassifier()</pre></div></div></div></div></div></div></div></div></div></div>"
      ],
      "text/plain": [
       "GridSearchCV(cv=10, estimator=DecisionTreeClassifier(),\n",
       "             param_grid={'max_depth': [2, 4, 5, 6, 7]}, scoring='accuracy')"
      ]
     },
     "execution_count": 16,
     "metadata": {},
     "output_type": "execute_result"
    }
   ],
   "source": [
    "from sklearn.model_selection import GridSearchCV\n",
    "\n",
    "params = {'max_depth':[2, 4, 5, 6, 7]}\n",
    "grid = GridSearchCV(dt, params, cv=10, scoring='accuracy')\n",
    "grid.fit(x_train, y_train)"
   ]
  },
  {
   "cell_type": "code",
   "execution_count": 17,
   "id": "d39dc37d",
   "metadata": {},
   "outputs": [
    {
     "name": "stdout",
     "output_type": "stream",
     "text": [
      "{'max_depth': 2}\n"
     ]
    }
   ],
   "source": [
    "print(grid.best_params_)"
   ]
  },
  {
   "cell_type": "code",
   "execution_count": 18,
   "id": "19150580",
   "metadata": {},
   "outputs": [],
   "source": [
    "dt = DecisionTreeClassifier(max_depth=2)"
   ]
  },
  {
   "cell_type": "code",
   "execution_count": 19,
   "id": "4f378291",
   "metadata": {},
   "outputs": [
    {
     "data": {
      "text/html": [
       "<style>#sk-container-id-3 {color: black;background-color: white;}#sk-container-id-3 pre{padding: 0;}#sk-container-id-3 div.sk-toggleable {background-color: white;}#sk-container-id-3 label.sk-toggleable__label {cursor: pointer;display: block;width: 100%;margin-bottom: 0;padding: 0.3em;box-sizing: border-box;text-align: center;}#sk-container-id-3 label.sk-toggleable__label-arrow:before {content: \"▸\";float: left;margin-right: 0.25em;color: #696969;}#sk-container-id-3 label.sk-toggleable__label-arrow:hover:before {color: black;}#sk-container-id-3 div.sk-estimator:hover label.sk-toggleable__label-arrow:before {color: black;}#sk-container-id-3 div.sk-toggleable__content {max-height: 0;max-width: 0;overflow: hidden;text-align: left;background-color: #f0f8ff;}#sk-container-id-3 div.sk-toggleable__content pre {margin: 0.2em;color: black;border-radius: 0.25em;background-color: #f0f8ff;}#sk-container-id-3 input.sk-toggleable__control:checked~div.sk-toggleable__content {max-height: 200px;max-width: 100%;overflow: auto;}#sk-container-id-3 input.sk-toggleable__control:checked~label.sk-toggleable__label-arrow:before {content: \"▾\";}#sk-container-id-3 div.sk-estimator input.sk-toggleable__control:checked~label.sk-toggleable__label {background-color: #d4ebff;}#sk-container-id-3 div.sk-label input.sk-toggleable__control:checked~label.sk-toggleable__label {background-color: #d4ebff;}#sk-container-id-3 input.sk-hidden--visually {border: 0;clip: rect(1px 1px 1px 1px);clip: rect(1px, 1px, 1px, 1px);height: 1px;margin: -1px;overflow: hidden;padding: 0;position: absolute;width: 1px;}#sk-container-id-3 div.sk-estimator {font-family: monospace;background-color: #f0f8ff;border: 1px dotted black;border-radius: 0.25em;box-sizing: border-box;margin-bottom: 0.5em;}#sk-container-id-3 div.sk-estimator:hover {background-color: #d4ebff;}#sk-container-id-3 div.sk-parallel-item::after {content: \"\";width: 100%;border-bottom: 1px solid gray;flex-grow: 1;}#sk-container-id-3 div.sk-label:hover label.sk-toggleable__label {background-color: #d4ebff;}#sk-container-id-3 div.sk-serial::before {content: \"\";position: absolute;border-left: 1px solid gray;box-sizing: border-box;top: 0;bottom: 0;left: 50%;z-index: 0;}#sk-container-id-3 div.sk-serial {display: flex;flex-direction: column;align-items: center;background-color: white;padding-right: 0.2em;padding-left: 0.2em;position: relative;}#sk-container-id-3 div.sk-item {position: relative;z-index: 1;}#sk-container-id-3 div.sk-parallel {display: flex;align-items: stretch;justify-content: center;background-color: white;position: relative;}#sk-container-id-3 div.sk-item::before, #sk-container-id-3 div.sk-parallel-item::before {content: \"\";position: absolute;border-left: 1px solid gray;box-sizing: border-box;top: 0;bottom: 0;left: 50%;z-index: -1;}#sk-container-id-3 div.sk-parallel-item {display: flex;flex-direction: column;z-index: 1;position: relative;background-color: white;}#sk-container-id-3 div.sk-parallel-item:first-child::after {align-self: flex-end;width: 50%;}#sk-container-id-3 div.sk-parallel-item:last-child::after {align-self: flex-start;width: 50%;}#sk-container-id-3 div.sk-parallel-item:only-child::after {width: 0;}#sk-container-id-3 div.sk-dashed-wrapped {border: 1px dashed gray;margin: 0 0.4em 0.5em 0.4em;box-sizing: border-box;padding-bottom: 0.4em;background-color: white;}#sk-container-id-3 div.sk-label label {font-family: monospace;font-weight: bold;display: inline-block;line-height: 1.2em;}#sk-container-id-3 div.sk-label-container {text-align: center;}#sk-container-id-3 div.sk-container {/* jupyter's `normalize.less` sets `[hidden] { display: none; }` but bootstrap.min.css set `[hidden] { display: none !important; }` so we also need the `!important` here to be able to override the default hidden behavior on the sphinx rendered scikit-learn.org. See: https://github.com/scikit-learn/scikit-learn/issues/21755 */display: inline-block !important;position: relative;}#sk-container-id-3 div.sk-text-repr-fallback {display: none;}</style><div id=\"sk-container-id-3\" class=\"sk-top-container\"><div class=\"sk-text-repr-fallback\"><pre>DecisionTreeClassifier(max_depth=2)</pre><b>In a Jupyter environment, please rerun this cell to show the HTML representation or trust the notebook. <br />On GitHub, the HTML representation is unable to render, please try loading this page with nbviewer.org.</b></div><div class=\"sk-container\" hidden><div class=\"sk-item\"><div class=\"sk-estimator sk-toggleable\"><input class=\"sk-toggleable__control sk-hidden--visually\" id=\"sk-estimator-id-5\" type=\"checkbox\" checked><label for=\"sk-estimator-id-5\" class=\"sk-toggleable__label sk-toggleable__label-arrow\">DecisionTreeClassifier</label><div class=\"sk-toggleable__content\"><pre>DecisionTreeClassifier(max_depth=2)</pre></div></div></div></div></div>"
      ],
      "text/plain": [
       "DecisionTreeClassifier(max_depth=2)"
      ]
     },
     "execution_count": 19,
     "metadata": {},
     "output_type": "execute_result"
    }
   ],
   "source": [
    "dt.fit(x_train, y_train)"
   ]
  },
  {
   "cell_type": "code",
   "execution_count": 20,
   "id": "a18ae348",
   "metadata": {},
   "outputs": [],
   "source": [
    "dt_pred = dt.predict(x_test)"
   ]
  },
  {
   "cell_type": "code",
   "execution_count": 21,
   "id": "a5d2dfdc",
   "metadata": {},
   "outputs": [
    {
     "name": "stdout",
     "output_type": "stream",
     "text": [
      "              precision    recall  f1-score   support\n",
      "\n",
      "     1000000       0.00      0.00      0.00         2\n",
      "     1500000       0.00      0.00      0.00         4\n",
      "     1550000       0.00      0.00      0.00         1\n",
      "     1600000       0.00      0.00      0.00         3\n",
      "     1650000       0.00      0.00      0.00         1\n",
      "     1700000       0.00      0.00      0.00         2\n",
      "     1800000       0.00      0.00      0.00         1\n",
      "     1850000       0.00      0.00      0.00         1\n",
      "     2000000       0.00      0.00      0.00         5\n",
      "     2100000       0.00      0.00      0.00         1\n",
      "     2200000       0.00      0.00      0.00         2\n",
      "     2300000       0.00      0.00      0.00         3\n",
      "     2400000       0.00      0.00      0.00         2\n",
      "     2500000       0.00      0.00      0.00         2\n",
      "     2600000       0.00      0.00      0.00         3\n",
      "     2670000       0.00      0.00      0.00         1\n",
      "     2700000       0.00      0.00      0.00         1\n",
      "     2850000       0.00      0.00      0.00         1\n",
      "     2940000       0.00      0.00      0.00         1\n",
      "     3000000       0.00      0.00      0.00         3\n",
      "     3200000       0.00      0.00      0.00         2\n",
      "     3300000       0.00      0.00      0.00         3\n",
      "     3400000       0.00      0.00      0.00         2\n",
      "     3500000       0.02      0.50      0.04         2\n",
      "     3600000       0.00      0.00      0.00         2\n",
      "     3700000       0.00      0.00      0.00         1\n",
      "     3800000       0.00      0.00      0.00         3\n",
      "     3900000       0.00      0.00      0.00         1\n",
      "     3950000       0.00      0.00      0.00         1\n",
      "     4000000       0.00      0.00      0.00         1\n",
      "     4100000       0.00      0.00      0.00         1\n",
      "     4200000       0.00      0.00      0.00         1\n",
      "     4400000       0.00      0.00      0.00         1\n",
      "     4500000       0.03      0.80      0.06         5\n",
      "     4600000       0.00      0.00      0.00         1\n",
      "     4700000       0.00      0.00      0.00         1\n",
      "     4800000       0.00      0.00      0.00         1\n",
      "     5000000       0.00      0.00      0.00         2\n",
      "     5200000       0.00      0.00      0.00         1\n",
      "     5400000       0.00      0.00      0.00         1\n",
      "     5500000       0.00      0.00      0.00         8\n",
      "     5510000       0.00      0.00      0.00         1\n",
      "     5700000       0.00      0.00      0.00         2\n",
      "     5890000       0.00      0.00      0.00         1\n",
      "     5990000       0.00      0.00      0.00         1\n",
      "     6000000       0.00      0.00      0.00        10\n",
      "     6200000       0.00      0.00      0.00         1\n",
      "     6300000       0.00      0.00      0.00         3\n",
      "     6400000       0.00      0.00      0.00         1\n",
      "     6500000       0.00      0.00      0.00         8\n",
      "     6540000       0.00      0.00      0.00         1\n",
      "     6700000       0.00      0.00      0.00         1\n",
      "     6990000       0.00      0.00      0.00         1\n",
      "     7000000       0.00      0.00      0.00         5\n",
      "     7300000       0.00      0.00      0.00         2\n",
      "     7500000       0.00      0.00      0.00         4\n",
      "     7800000       0.00      0.00      0.00         1\n",
      "     8000000       0.00      0.00      0.00         6\n",
      "     8100000       0.00      0.00      0.00         1\n",
      "     8300000       0.00      0.00      0.00         1\n",
      "     8500000       0.00      0.00      0.00         2\n",
      "     9000000       0.00      0.00      0.00         1\n",
      "     9030000       0.00      0.00      0.00         1\n",
      "     9200000       0.00      0.00      0.00         2\n",
      "     9300000       0.00      0.00      0.00         1\n",
      "     9500000       0.00      0.00      0.00         1\n",
      "    10000000       0.00      0.00      0.00         5\n",
      "    10200000       0.00      0.00      0.00         1\n",
      "    10300000       0.00      0.00      0.00         1\n",
      "    10500000       0.00      0.00      0.00         1\n",
      "    11000000       0.00      0.00      0.00         3\n",
      "    11500000       0.00      0.00      0.00         3\n",
      "    12000000       0.00      0.00      0.00         6\n",
      "    12500000       0.00      0.00      0.00         2\n",
      "    12600000       0.00      0.00      0.00         1\n",
      "    13000000       0.00      0.00      0.00         3\n",
      "    13100000       0.00      0.00      0.00         1\n",
      "    13500000       0.00      0.00      0.00         7\n",
      "    13600000       0.00      0.00      0.00         1\n",
      "    14000000       0.00      0.00      0.00         1\n",
      "    14200000       0.00      0.00      0.00         1\n",
      "    14300000       0.00      0.00      0.00         1\n",
      "    14500000       0.00      0.00      0.00         2\n",
      "    14600000       0.00      0.00      0.00         1\n",
      "    14900000       0.00      0.00      0.00         1\n",
      "    15000000       0.00      0.00      0.00        10\n",
      "    15500000       0.00      0.00      0.00         4\n",
      "    15800000       0.00      0.00      0.00         5\n",
      "    16000000       0.00      0.00      0.00         7\n",
      "    16200000       0.00      0.00      0.00         1\n",
      "    16500000       0.00      0.00      0.00         2\n",
      "    17000000       0.00      0.00      0.00         1\n",
      "    17200000       0.00      0.00      0.00         1\n",
      "    17500000       0.00      0.00      0.00         3\n",
      "    18000000       0.00      0.00      0.00         1\n",
      "    18500000       0.00      0.00      0.00         3\n",
      "    18800000       0.00      0.00      0.00         1\n",
      "    19000000       0.00      0.00      0.00         5\n",
      "    20000000       0.00      0.00      0.00         7\n",
      "    20500000       0.00      0.00      0.00         1\n",
      "    21000000       0.00      0.00      0.00         4\n",
      "    21100000       0.00      0.00      0.00         1\n",
      "    22000000       0.00      0.00      0.00         3\n",
      "    22500000       0.00      0.00      0.00         4\n",
      "    23000000       0.00      0.00      0.00         2\n",
      "    24000000       0.00      0.00      0.00         3\n",
      "    24500000       0.00      0.00      0.00         1\n",
      "    24700000       0.00      0.00      0.00         1\n",
      "    24900000       0.00      0.00      0.00         1\n",
      "    25000000       0.00      0.00      0.00         8\n",
      "    25500000       0.00      0.00      0.00         1\n",
      "    26000000       0.00      0.00      0.00         7\n",
      "    26500000       0.00      0.00      0.00         1\n",
      "    27500000       0.00      0.00      0.00         2\n",
      "    28900000       0.00      0.00      0.00         1\n",
      "    29000000       0.00      0.00      0.00         1\n",
      "    30000000       0.01      1.00      0.03         2\n",
      "    31000000       0.00      0.00      0.00         1\n",
      "    31500000       0.00      0.00      0.00         2\n",
      "    32500000       0.00      0.00      0.00         2\n",
      "    33500000       0.00      0.00      0.00         1\n",
      "    34000000       0.00      0.00      0.00         2\n",
      "    34300000       0.00      0.00      0.00         1\n",
      "    35000000       0.00      0.00      0.00         1\n",
      "    37500000       0.00      0.00      0.00         5\n",
      "    38000000       0.00      0.00      0.00         1\n",
      "    38500000       0.00      0.00      0.00         1\n",
      "    39000000       0.00      0.00      0.00         1\n",
      "    40000000       0.00      0.00      0.00         5\n",
      "    42500000       0.00      0.00      0.00         5\n",
      "    43200000       0.00      0.00      0.00         1\n",
      "    44000000       0.00      0.00      0.00         1\n",
      "    45000000       0.00      0.00      0.00         1\n",
      "    46000000       0.00      0.00      0.00         1\n",
      "    47000000       0.00      0.00      0.00         1\n",
      "    47500000       0.00      0.00      0.00         2\n",
      "    50000000       0.00      0.00      0.00         1\n",
      "    51000000       0.00      0.00      0.00         2\n",
      "    52300000       0.00      0.00      0.00         1\n",
      "    52500000       0.00      0.00      0.00         1\n",
      "    55000000       0.00      0.00      0.00         4\n",
      "    55300000       0.00      0.00      0.00         1\n",
      "    56000000       0.00      0.00      0.00         1\n",
      "    60000000       0.00      0.00      0.00         6\n",
      "    63000000       0.00      0.00      0.00         1\n",
      "    65000000       0.00      0.00      0.00         3\n",
      "    70000000       0.05      1.00      0.09         2\n",
      "    72500000       0.00      0.00      0.00         2\n",
      "    73700000       0.00      0.00      0.00         1\n",
      "    75000000       0.00      0.00      0.00         2\n",
      "    82500000       0.00      0.00      0.00         1\n",
      "    87500000       0.00      0.00      0.00         1\n",
      "    90000000       0.00      0.00      0.00         1\n",
      "   100000000       0.00      0.00      0.00         2\n",
      "   110000000       0.00      0.00      0.00         1\n",
      "   135500000       0.00      0.00      0.00         1\n",
      "   160000000       0.00      0.00      0.00         1\n",
      "   170000000       0.00      0.00      0.00         1\n",
      "   180000000       0.00      0.00      0.00         1\n",
      "   190000000       0.00      0.00      0.00         1\n",
      "   220000000       0.00      0.00      0.00         1\n",
      "   240000000       0.00      0.00      0.00         1\n",
      "\n",
      "    accuracy                           0.03       353\n",
      "   macro avg       0.00      0.02      0.00       353\n",
      "weighted avg       0.00      0.03      0.00       353\n",
      "\n"
     ]
    },
    {
     "name": "stderr",
     "output_type": "stream",
     "text": [
      "C:\\Users\\ASUS\\AppData\\Local\\Programs\\Python\\Python310\\lib\\site-packages\\sklearn\\metrics\\_classification.py:1334: UndefinedMetricWarning: Precision and F-score are ill-defined and being set to 0.0 in labels with no predicted samples. Use `zero_division` parameter to control this behavior.\n",
      "  _warn_prf(average, modifier, msg_start, len(result))\n",
      "C:\\Users\\ASUS\\AppData\\Local\\Programs\\Python\\Python310\\lib\\site-packages\\sklearn\\metrics\\_classification.py:1334: UndefinedMetricWarning: Precision and F-score are ill-defined and being set to 0.0 in labels with no predicted samples. Use `zero_division` parameter to control this behavior.\n",
      "  _warn_prf(average, modifier, msg_start, len(result))\n",
      "C:\\Users\\ASUS\\AppData\\Local\\Programs\\Python\\Python310\\lib\\site-packages\\sklearn\\metrics\\_classification.py:1334: UndefinedMetricWarning: Precision and F-score are ill-defined and being set to 0.0 in labels with no predicted samples. Use `zero_division` parameter to control this behavior.\n",
      "  _warn_prf(average, modifier, msg_start, len(result))\n"
     ]
    }
   ],
   "source": [
    "print(classification_report(y_test, dt_pred))"
   ]
  },
  {
   "cell_type": "code",
   "execution_count": 22,
   "id": "5ed16ed6",
   "metadata": {},
   "outputs": [
    {
     "data": {
      "image/png": "[encoded data removed]",
      "text/plain": [
       "<Figure size 640x480 with 1 Axes>"
      ]
     },
     "metadata": {},
     "output_type": "display_data"
    }
   ],
   "source": [
    "from sklearn import tree\n",
    "\n",
    "tree.plot_tree(dt)\n",
    "plt.show()"
   ]
  },
  {
   "cell_type": "markdown",
   "id": "cb7fa389",
   "metadata": {},
   "source": [
    "### Score dari kedua algoritma \n",
    "#### - Score Algoritma KNN = 0,02\n",
    "#### - Score Algoritma Decision Tree = 0,03 "
   ]
  },
  {
   "cell_type": "markdown",
   "id": "0bc260af",
   "metadata": {},
   "source": [
    "### Visualisasi untuk Regression"
   ]
  },
  {
   "cell_type": "code",
   "execution_count": 23,
   "id": "dc3606ea",
   "metadata": {},
   "outputs": [],
   "source": [
    "from sklearn.linear_model import LinearRegression\n",
    "\n",
    "lg = LinearRegression()"
   ]
  },
  {
   "cell_type": "code",
   "execution_count": 24,
   "id": "783f4df4",
   "metadata": {},
   "outputs": [
    {
     "data": {
      "text/html": [
       "<style>#sk-container-id-4 {color: black;background-color: white;}#sk-container-id-4 pre{padding: 0;}#sk-container-id-4 div.sk-toggleable {background-color: white;}#sk-container-id-4 label.sk-toggleable__label {cursor: pointer;display: block;width: 100%;margin-bottom: 0;padding: 0.3em;box-sizing: border-box;text-align: center;}#sk-container-id-4 label.sk-toggleable__label-arrow:before {content: \"▸\";float: left;margin-right: 0.25em;color: #696969;}#sk-container-id-4 label.sk-toggleable__label-arrow:hover:before {color: black;}#sk-container-id-4 div.sk-estimator:hover label.sk-toggleable__label-arrow:before {color: black;}#sk-container-id-4 div.sk-toggleable__content {max-height: 0;max-width: 0;overflow: hidden;text-align: left;background-color: #f0f8ff;}#sk-container-id-4 div.sk-toggleable__content pre {margin: 0.2em;color: black;border-radius: 0.25em;background-color: #f0f8ff;}#sk-container-id-4 input.sk-toggleable__control:checked~div.sk-toggleable__content {max-height: 200px;max-width: 100%;overflow: auto;}#sk-container-id-4 input.sk-toggleable__control:checked~label.sk-toggleable__label-arrow:before {content: \"▾\";}#sk-container-id-4 div.sk-estimator input.sk-toggleable__control:checked~label.sk-toggleable__label {background-color: #d4ebff;}#sk-container-id-4 div.sk-label input.sk-toggleable__control:checked~label.sk-toggleable__label {background-color: #d4ebff;}#sk-container-id-4 input.sk-hidden--visually {border: 0;clip: rect(1px 1px 1px 1px);clip: rect(1px, 1px, 1px, 1px);height: 1px;margin: -1px;overflow: hidden;padding: 0;position: absolute;width: 1px;}#sk-container-id-4 div.sk-estimator {font-family: monospace;background-color: #f0f8ff;border: 1px dotted black;border-radius: 0.25em;box-sizing: border-box;margin-bottom: 0.5em;}#sk-container-id-4 div.sk-estimator:hover {background-color: #d4ebff;}#sk-container-id-4 div.sk-parallel-item::after {content: \"\";width: 100%;border-bottom: 1px solid gray;flex-grow: 1;}#sk-container-id-4 div.sk-label:hover label.sk-toggleable__label {background-color: #d4ebff;}#sk-container-id-4 div.sk-serial::before {content: \"\";position: absolute;border-left: 1px solid gray;box-sizing: border-box;top: 0;bottom: 0;left: 50%;z-index: 0;}#sk-container-id-4 div.sk-serial {display: flex;flex-direction: column;align-items: center;background-color: white;padding-right: 0.2em;padding-left: 0.2em;position: relative;}#sk-container-id-4 div.sk-item {position: relative;z-index: 1;}#sk-container-id-4 div.sk-parallel {display: flex;align-items: stretch;justify-content: center;background-color: white;position: relative;}#sk-container-id-4 div.sk-item::before, #sk-container-id-4 div.sk-parallel-item::before {content: \"\";position: absolute;border-left: 1px solid gray;box-sizing: border-box;top: 0;bottom: 0;left: 50%;z-index: -1;}#sk-container-id-4 div.sk-parallel-item {display: flex;flex-direction: column;z-index: 1;position: relative;background-color: white;}#sk-container-id-4 div.sk-parallel-item:first-child::after {align-self: flex-end;width: 50%;}#sk-container-id-4 div.sk-parallel-item:last-child::after {align-self: flex-start;width: 50%;}#sk-container-id-4 div.sk-parallel-item:only-child::after {width: 0;}#sk-container-id-4 div.sk-dashed-wrapped {border: 1px dashed gray;margin: 0 0.4em 0.5em 0.4em;box-sizing: border-box;padding-bottom: 0.4em;background-color: white;}#sk-container-id-4 div.sk-label label {font-family: monospace;font-weight: bold;display: inline-block;line-height: 1.2em;}#sk-container-id-4 div.sk-label-container {text-align: center;}#sk-container-id-4 div.sk-container {/* jupyter's `normalize.less` sets `[hidden] { display: none; }` but bootstrap.min.css set `[hidden] { display: none !important; }` so we also need the `!important` here to be able to override the default hidden behavior on the sphinx rendered scikit-learn.org. See: https://github.com/scikit-learn/scikit-learn/issues/21755 */display: inline-block !important;position: relative;}#sk-container-id-4 div.sk-text-repr-fallback {display: none;}</style><div id=\"sk-container-id-4\" class=\"sk-top-container\"><div class=\"sk-text-repr-fallback\"><pre>LinearRegression()</pre><b>In a Jupyter environment, please rerun this cell to show the HTML representation or trust the notebook. <br />On GitHub, the HTML representation is unable to render, please try loading this page with nbviewer.org.</b></div><div class=\"sk-container\" hidden><div class=\"sk-item\"><div class=\"sk-estimator sk-toggleable\"><input class=\"sk-toggleable__control sk-hidden--visually\" id=\"sk-estimator-id-6\" type=\"checkbox\" checked><label for=\"sk-estimator-id-6\" class=\"sk-toggleable__label sk-toggleable__label-arrow\">LinearRegression</label><div class=\"sk-toggleable__content\"><pre>LinearRegression()</pre></div></div></div></div></div>"
      ],
      "text/plain": [
       "LinearRegression()"
      ]
     },
     "execution_count": 24,
     "metadata": {},
     "output_type": "execute_result"
    }
   ],
   "source": [
    "lg.fit(data[['Area']], data.Harga)"
   ]
  },
  {
   "cell_type": "code",
   "execution_count": 25,
   "id": "924a5e51",
   "metadata": {},
   "outputs": [
    {
     "data": {
      "text/plain": [
       "[<matplotlib.lines.Line2D at 0x281cb7671c0>]"
      ]
     },
     "execution_count": 25,
     "metadata": {},
     "output_type": "execute_result"
    },
    {
     "data": {
      "image/png": "[encoded data removed]",
      "text/plain": [
       "<Figure size 1500x700 with 1 Axes>"
      ]
     },
     "metadata": {},
     "output_type": "display_data"
    }
   ],
   "source": [
    "plt.figure(figsize=(15, 7))\n",
    "plt.xlabel('Area')\n",
    "plt.ylabel('Harga Rumah')\n",
    "plt.scatter(data[['Area']], data.Harga)\n",
    "plt.plot(data[['Area']], lg.predict(data[['Area']]))"
   ]
  }
 ],
 "metadata": {
  "kernelspec": {
   "display_name": "Python 3 (ipykernel)",
   "language": "python",
   "name": "python3"
  },
  "language_info": {
   "codemirror_mode": {
    "name": "ipython",
    "version": 3
   },
   "file_extension": ".py",
   "mimetype": "text/x-python",
   "name": "python",
   "nbconvert_exporter": "python",
   "pygments_lexer": "ipython3",
   "version": "3.10.7"
  }
 },
 "nbformat": 4,
 "nbformat_minor": 5
}
