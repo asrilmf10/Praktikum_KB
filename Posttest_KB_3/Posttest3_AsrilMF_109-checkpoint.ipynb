{
 "cells": [
  {
   "cell_type": "markdown",
   "id": "7b381bac",
   "metadata": {},
   "source": [
    "Import package yang ingin digunakan"
   ]
  },
  {
   "cell_type": "code",
   "execution_count": null,
   "id": "652468d1",
   "metadata": {},
   "outputs": [],
   "source": [
    "import pandas as pd\n",
    "import numpy as ns\n",
    "import matplotlib.pyplot as plt\n",
    "import seaborn as sns"
   ]
  },
  {
   "cell_type": "markdown",
   "id": "7d1a2f32",
   "metadata": {},
   "source": [
    "Menyimpan dataset kedalam variabel \"data\""
   ]
  },
  {
   "cell_type": "code",
   "execution_count": null,
   "id": "bd295c6f",
   "metadata": {},
   "outputs": [],
   "source": [
    "data = pd.read_csv('')"
   ]
  },
  {
   "cell_type": "markdown",
   "id": "a0b98ab8",
   "metadata": {},
   "source": [
    "Menampilkan record dataset"
   ]
  },
  {
   "cell_type": "code",
   "execution_count": null,
   "id": "55027b98",
   "metadata": {},
   "outputs": [],
   "source": [
    "data"
   ]
  },
  {
   "cell_type": "markdown",
   "id": "8c79ab8b",
   "metadata": {},
   "source": [
    "Grafik Batang"
   ]
  },
  {
   "cell_type": "code",
   "execution_count": null,
   "id": "2f3835d2",
   "metadata": {},
   "outputs": [],
   "source": [
    "plt.figure(figsize=(12, 7))\n",
    "plt.title('Grafik Batang')\n",
    "plt.xlabel('')\n",
    "plt.ylabel('')\n",
    "\n",
    "plt.legend()\n",
    "plt.xticks(rotation = 60)\n",
    "plt.show()"
   ]
  },
  {
   "cell_type": "markdown",
   "id": "4dc602b4",
   "metadata": {},
   "source": [
    "Penjelasan untuk penggunaan grafik batang"
   ]
  },
  {
   "cell_type": "markdown",
   "id": "7515969f",
   "metadata": {},
   "source": [
    "Grafik Plot dan Garis"
   ]
  },
  {
   "cell_type": "code",
   "execution_count": null,
   "id": "33b05dc9",
   "metadata": {},
   "outputs": [],
   "source": [
    "plt.figure(figsize=(12, 7))\n",
    "plt.title('Grafik Plot & Garis')\n",
    "\n",
    "plt.xlabel('')\n",
    "plt.ylabel('')\n",
    "plt.legend('')\n",
    "plt.xticks(rotation = 60)\n",
    "plt.show()"
   ]
  },
  {
   "cell_type": "markdown",
   "id": "39cbea05",
   "metadata": {},
   "source": [
    "Penjelasan untuk penggunaan grafik plot dan garis"
   ]
  },
  {
   "cell_type": "markdown",
   "id": "b1ae31f0",
   "metadata": {},
   "source": [
    "Grafik PIE"
   ]
  },
  {
   "cell_type": "code",
   "execution_count": null,
   "id": "3cf996e2",
   "metadata": {},
   "outputs": [],
   "source": [
    "plt.figure(figsize=(12, 7))\n",
    "plt.title('Grafik PIE')\n",
    "\n",
    "plt.legend(loc = 'lower right')\n",
    "plt.show()"
   ]
  },
  {
   "cell_type": "markdown",
   "id": "163e892a",
   "metadata": {},
   "source": [
    "Penjelasan untuk penggunaan grafik pie"
   ]
  },
  {
   "cell_type": "markdown",
   "id": "073fe83f",
   "metadata": {},
   "source": [
    "Grafik Heatmap"
   ]
  },
  {
   "cell_type": "code",
   "execution_count": null,
   "id": "b85a4360",
   "metadata": {},
   "outputs": [],
   "source": [
    "\n",
    "plt.title('Grafik Heatmap')\n",
    "plt.xlabel('')\n",
    "plt.ylabel('')\n",
    "plt.show()"
   ]
  },
  {
   "cell_type": "markdown",
   "id": "a24a207f",
   "metadata": {},
   "source": [
    "Penjelasan untuk penggunaan grafik heatmap"
   ]
  }
 ],
 "metadata": {
  "kernelspec": {
   "display_name": "Python 3 (ipykernel)",
   "language": "python",
   "name": "python3"
  },
  "language_info": {
   "codemirror_mode": {
    "name": "ipython",
    "version": 3
   },
   "file_extension": ".py",
   "mimetype": "text/x-python",
   "name": "python",
   "nbconvert_exporter": "python",
   "pygments_lexer": "ipython3",
   "version": "3.10.7"
  }
 },
 "nbformat": 4,
 "nbformat_minor": 5
}
